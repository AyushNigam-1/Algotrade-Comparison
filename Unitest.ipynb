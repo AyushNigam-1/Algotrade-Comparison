{
 "cells": [
  {
   "cell_type": "code",
   "execution_count": 1,
   "metadata": {},
   "outputs": [],
   "source": [
    "import sys\n",
    "import os\n",
    "from datetime import datetime\n",
    "import copy\n",
    "import numpy as np\n",
    "import pandas as pd\n",
    "from collections import Counter\n",
    "from functools import reduce\n",
    "import matplotlib.pyplot as plt\n",
    "from scipy.optimize import minimize, LinearConstraint\n",
    "\n",
    "sys.path.append(os.getcwd())\n",
    "\n",
    "import ContractVolatile as trinity\n",
    "\n",
    "#POOL setup, Mary deposit as the protocol, Another external LP as Others and Peter act as arbitrague and swap around.\n",
    "# Create the Pool\n",
    "Trinity = trinity.Pool()\n",
    "\n",
    "# Create the Users\n",
    "Peter = trinity.Users(\"Peter\")  # Peter is the user\n",
    "Mary = trinity.Users(\"Mary\")  # Mary is the arbitrageur\n",
    "Others = trinity.Users(\n",
    "    \"Others\"\n",
    ")  # This is an external system (for book keeping of arbitrageur)\n",
    "\n",
    "\"\"\"\n",
    "Block begin user inputs.\n",
    "Change all inputs, including tokens, parameters setup here\n",
    "\"\"\"\n",
    "\n",
    "# Create all the tokens here\n",
    "BTC = trinity.Tokens(\"BTC\")  # *** To be modified ***\n",
    "ETH = trinity.Tokens(\"ETH\")  # *** To be modified ***\n",
    "USDT = trinity.Tokens(\"USDT\")  # *** To be modified ***\n",
    "\n",
    "#Printing parameters\n",
    "print_update = False\n",
    "print_action = True\n",
    "no_fee = False\n",
    "trinity.no_fee = no_fee\n",
    "trinity.print_action = print_action\n",
    "trinity.print_update = print_update\n",
    "\n",
    "# User wallet, BTC=30000, ETH=2000, Denote Peter to be arbitraguer swapper, Mary to be first depositor, Other to be an active LP\n",
    "Peter.wallet = {\"BTC\": 100, \"ETH\": 3000, \"USDT\": 6000000}  # *** To be modified ***\n",
    "Mary.wallet = {\"BTC\": 100, \"ETH\": 3000, \"USDT\": 6000000}  # *** To be modified ***\n",
    "Others.wallet = {\"BTC\": 100, \"ETH\": 3000,\"USDT\": 6000000,}  # *** To be modified ***\n",
    "\n",
    "Peter.lp_token = {\"BTC\": 0, \"ETH\": 0, \"USDT\": 0}\n",
    "Mary.lp_token = {\"BTC\": 0, \"ETH\": 0, \"USDT\": 0}\n",
    "Others.lp_token = {\"BTC\": 0, \"ETH\": 0, \"USDT\": 0}\n",
    "\n",
    "\"\"\"\n",
    "Block begin initialization after user inputs.\n",
    "\"\"\"\n",
    "Tokens = trinity.Tokens.get_instances()\n",
    "m = len(Tokens)\n",
    "\n",
    "# Setting Initial token price\n",
    "price_list = ['price_scale', 'price_scale_new', 'price_oracle', 'price_market', 'price_last']\n",
    "price_list_records = ['price_scale_records', 'price_scale_new_records','price_oracle_records', 'price_last_records']\n",
    "\n",
    "for price_index in price_list:\n",
    "    setattr(BTC, price_index, 30000)\n",
    "    setattr(ETH, price_index, 2000)\n",
    "\n",
    "for price_index_records in price_list_records:\n",
    "    setattr(BTC, price_index_records, [30000])\n",
    "    setattr(ETH, price_index_records, [2000])\n",
    "\n",
    "\n",
    "#Recording initial state \n",
    "Users = trinity.Users.get_instances()\n",
    "init_Users_state = {\n",
    "    key: Peter.wallet[key] + Mary.wallet[key] + Others.wallet[key]\n",
    "    for key in Peter.wallet\n",
    "}\n",
    "init_Users_lp_state = {\n",
    "    key: Peter.lp_token[key] + Mary.lp_token[key] + Others.lp_token[key]\n",
    "    for key in Peter.wallet\n",
    "}\n",
    "\n",
    "Mary_init = copy.deepcopy(Mary.wallet)\n",
    "init_Pool_state = {\"BTC\": BTC.cash, \"ETH\": ETH.cash, \"USDT\": USDT.cash}\n",
    "init_Pool_lp_token = {\"BTC\": BTC.lp_token, \"ETH\": ETH.lp_token, \"USDT\": USDT.lp_token}\n"
   ]
  },
  {
   "cell_type": "code",
   "execution_count": 2,
   "metadata": {},
   "outputs": [
    {
     "name": "stdout",
     "output_type": "stream",
     "text": [
      "DEPOSIT: Mary deposited 20 BTC and gain reward of 0 (0.0%) adding total 20 BTC liability (20 LP) into the Pool\n",
      "DEPOSIT: Mary deposited 300 ETH and gain reward of 0 (0.0%) adding total 300 ETH liability (300 LP) into the Pool\n",
      "DEPOSIT: Mary deposited 600000 USDT and gain reward of 0 (0.0%) adding total 600000 USDT liability (600000 LP) into the Pool\n"
     ]
    }
   ],
   "source": [
    "#Determine the state by deposit \n",
    "# Initial Deposit\n",
    "Mary.deposit(Trinity, BTC, 20, ETH, USDT)  # *** To be modified ***\n",
    "Mary.deposit(Trinity, ETH, 300, BTC, USDT)  # *** To be modified ***\n",
    "Mary.deposit(Trinity, USDT, 600000, BTC, ETH) # *** To be modified ***\n",
    "\n",
    "# Users can also arbitrarily change the state:\n",
    "# x=0\n",
    "# BTC.cash  = x # To be modified\n",
    "# ETH.cash  = x # To be modified\n",
    "# USDT.cash = x # To be modified\n",
    "# BTC.liability = x # To be modified\n",
    "# ETH.liability = x # To be modified\n",
    "# USDT.liability = x # To be modified\n"
   ]
  },
  {
   "cell_type": "code",
   "execution_count": 3,
   "metadata": {},
   "outputs": [
    {
     "name": "stdout",
     "output_type": "stream",
     "text": [
      "---------- The initial state is --------------\n",
      "{'Asset: BTC': 20, 'ETH': 300, 'USDT': 600000}\n",
      "{'Liability: BTC': 20, 'ETH': 300, 'USDT': 600000}\n",
      "{'Coverage ratio: BTC': 1.0, 'ETH': 1.0, 'USDT': 1.0}\n",
      "{'hair cut: BTC': 0, 'ETH': 0, 'USDT': 0}\n",
      "Prices (oracle): BTC: 30000 (30000), ETH: 2000 (2000), USDT: 1 (1),\n",
      "------------------------------------------\n",
      "Mary Wallet is {'BTC': 80, 'ETH': 2700, 'USDT': 5400000}\n",
      "Mary LP wallet is {'BTC': 20, 'ETH': 300, 'USDT': 600000}\n"
     ]
    }
   ],
   "source": [
    "print(\"---------- The initial state is --------------\")\n",
    "print({\"Asset: BTC\": BTC.cash, \"ETH\": ETH.cash, \"USDT\": USDT.cash})\n",
    "print({\"Liability: BTC\": BTC.liability, \"ETH\": ETH.liability, \"USDT\": USDT.liability})\n",
    "print({\"Coverage ratio: BTC\": BTC.cov_ratio(), \"ETH\": ETH.cov_ratio(), \"USDT\": USDT.cov_ratio()})\n",
    "print({\"hair cut: BTC\": BTC.hf_lp_records, \"ETH\": ETH.hf_lp_records, \"USDT\": USDT.hf_lp_records})\n",
    "print(f\"Prices (oracle): BTC: {BTC.price_last} ({BTC.price_oracle}), ETH: {ETH.price_last} ({ETH.price_oracle}), USDT: {USDT.price_last} ({USDT.price_oracle}),\")\n",
    "\n",
    "print(\"------------------------------------------\")\n",
    "print(\"Mary Wallet is {0}\".format(Mary.wallet))\n",
    "print(\"Mary LP wallet is {0}\".format(Mary.lp_token))\n",
    "\n",
    "\n"
   ]
  },
  {
   "cell_type": "code",
   "execution_count": 4,
   "metadata": {},
   "outputs": [
    {
     "name": "stdout",
     "output_type": "stream",
     "text": [
      "SWAP: Peter swapped 1 BTC to 28568.428288487856 USDT. Fees charged: 9.830689792847465\n",
      "The to_token USDT has 0.0 haircut with its price last 1 and price scale 1 \n",
      "---------- The state is --------------\n",
      "{'Asset: BTC': 21, 'ETH': 300, 'USDT': 571431.5717115122}\n",
      "{'Liability: BTC': 20, 'ETH': 300, 'USDT': 600009.8423424903}\n",
      "{'Coverage ratio: BTC': 1.05, 'ETH': 1.0, 'USDT': 0.9523703302609069}\n",
      "{'hair cut: BTC': 0, 'ETH': 0, 'USDT': 9.842342490358561}\n",
      "Prices (oracle): BTC: 27223.903073439516 (29999.999358585486), ETH: 1902.9410671620697 (1999.9999775746273), USDT: 1 (1),\n"
     ]
    }
   ],
   "source": [
    "Peter.swap_volatile_repeg(Trinity, BTC, 1, USDT, ETH)\n",
    "\n",
    "print(\"---------- The state is --------------\")\n",
    "print({\"Asset: BTC\": BTC.cash, \"ETH\": ETH.cash, \"USDT\": USDT.cash})\n",
    "print({\"Liability: BTC\": BTC.liability, \"ETH\": ETH.liability, \"USDT\": USDT.liability})\n",
    "print({\"Coverage ratio: BTC\": BTC.cov_ratio(), \"ETH\": ETH.cov_ratio(), \"USDT\": USDT.cov_ratio()})\n",
    "print({\"hair cut: BTC\": BTC.hf_lp_records, \"ETH\": ETH.hf_lp_records, \"USDT\": USDT.hf_lp_records})\n",
    "print(f\"Prices (oracle): BTC: {BTC.price_last} ({BTC.price_oracle}), ETH: {ETH.price_last} ({ETH.price_oracle}), USDT: {USDT.price_last} ({USDT.price_oracle}),\")\n",
    "\n",
    "\n"
   ]
  },
  {
   "cell_type": "code",
   "execution_count": 5,
   "metadata": {},
   "outputs": [
    {
     "name": "stdout",
     "output_type": "stream",
     "text": [
      "SWAP: Peter swapped 2000 USDT to 1.0469044260345146 ETH. Fees charged: 0.00036212320635917855\n",
      "The to_token ETH has 0.00018106160317958928 haircut with its price last 1902.9410671620697 and price scale 2000 \n",
      "******************************* Repegging Triggered *******************************\n",
      "---------- The state is --------------\n",
      "{'Asset: BTC': 21, 'ETH': 298.9529145123623, 'USDT': 573431.5717115122}\n",
      "{'Liability: BTC': 20, 'ETH': 300.00018106270477, 'USDT': 600009.8423424903}\n",
      "{'Coverage ratio: BTC': 1.05, 'ETH': 0.9965091136057563, 'USDT': 0.9557036089154566}\n",
      "{'hair cut: BTC': 0, 'ETH': 0.0001810627047620294, 'USDT': 9.842342490358561}\n",
      "Prices (oracle): BTC: 27323.195839907658 (29999.99874011262), ETH: 1916.5501707154006 (1999.9999582936302), USDT: 1 (1),\n"
     ]
    }
   ],
   "source": [
    "Peter.swap_volatile_repeg(Trinity, USDT, 2000, ETH, BTC)\n",
    "\n",
    "print(\"---------- The state is --------------\")\n",
    "print({\"Asset: BTC\": BTC.cash, \"ETH\": ETH.cash, \"USDT\": USDT.cash})\n",
    "print({\"Liability: BTC\": BTC.liability, \"ETH\": ETH.liability, \"USDT\": USDT.liability})\n",
    "print({\"Coverage ratio: BTC\": BTC.cov_ratio(), \"ETH\": ETH.cov_ratio(), \"USDT\": USDT.cov_ratio()})\n",
    "print({\"hair cut: BTC\": BTC.hf_lp_records, \"ETH\": ETH.hf_lp_records, \"USDT\": USDT.hf_lp_records})\n",
    "print(f\"Prices (oracle): BTC: {BTC.price_last} ({BTC.price_oracle}), ETH: {ETH.price_last} ({ETH.price_oracle}), USDT: {USDT.price_last} ({USDT.price_oracle}),\")"
   ]
  },
  {
   "cell_type": "code",
   "execution_count": 6,
   "metadata": {},
   "outputs": [
    {
     "name": "stdout",
     "output_type": "stream",
     "text": [
      "SWAP: Peter swapped 2 ETH to 0.1393354298135527 BTC. Fees charged: 4.593956336765788e-05\n",
      "The to_token BTC has 2.296978168382894e-05 haircut with its price last 27323.195839907658 and price scale 30000 \n",
      "******************************* Repegging Triggered *******************************\n",
      "---------- The state is --------------\n",
      "{'Asset: BTC': 20.860641600404765, 'ETH': 300.9529145123623, 'USDT': 573431.5717115122}\n",
      "{'Liability: BTC': 20.0000229900636, 'ETH': 300.00018106270477, 'USDT': 600009.8423424903}\n",
      "{'Coverage ratio: BTC': 1.0430308810529236, 'ETH': 1.0031757762488098, 'USDT': 0.9557036089154566}\n",
      "{'hair cut: BTC': 2.2990063599201052e-05, 'ETH': 0.0001810627047620294, 'USDT': 9.842342490358561}\n",
      "Prices (oracle): BTC: 27496.520518040532 (29999.998161686395), ETH: 1903.8753453997228 (1999.9999360841311), USDT: 1 (1),\n"
     ]
    }
   ],
   "source": [
    "Peter.swap_volatile_repeg(Trinity, ETH, 2, BTC, USDT)\n",
    "\n",
    "print(\"---------- The state is --------------\")\n",
    "print({\"Asset: BTC\": BTC.cash, \"ETH\": ETH.cash, \"USDT\": USDT.cash})\n",
    "print({\"Liability: BTC\": BTC.liability, \"ETH\": ETH.liability, \"USDT\": USDT.liability})\n",
    "print({\"Coverage ratio: BTC\": BTC.cov_ratio(), \"ETH\": ETH.cov_ratio(), \"USDT\": USDT.cov_ratio()})\n",
    "print({\"hair cut: BTC\": BTC.hf_lp_records, \"ETH\": ETH.hf_lp_records, \"USDT\": USDT.hf_lp_records})\n",
    "print(f\"Prices (oracle): BTC: {BTC.price_last} ({BTC.price_oracle}), ETH: {ETH.price_last} ({ETH.price_oracle}), USDT: {USDT.price_last} ({USDT.price_oracle}),\")"
   ]
  },
  {
   "cell_type": "code",
   "execution_count": 7,
   "metadata": {},
   "outputs": [
    {
     "name": "stdout",
     "output_type": "stream",
     "text": [
      "------------- Leakage Test -------------\n",
      "BTC token cash is 20.860641600404765\n",
      "BTC leakage is -5.684341886080802e-14\n",
      "ETH token cash is 300.9529145123623\n",
      "ETH leakage is 0.0\n",
      "USDT token cash is 573431.5717115122\n",
      "USDT leakage is 0.0\n"
     ]
    }
   ],
   "source": [
    "print(\"------------- Leakage Test -------------\")\n",
    "# Leakage Test\n",
    "for token in Tokens:\n",
    "    user_cash = 0\n",
    "    for user in Users:\n",
    "        user_cash += user.wallet[token.name]\n",
    "    token_end_balance = token.cash + token.hf_sys_records + user_cash + token.hf_repeg \n",
    "    print(\"{0} token cash is {1}\".format(token.name, token.cash))\n",
    "    leakage = init_Users_state[token.name] - token_end_balance\n",
    "    print(\"{0} leakage is {1}\".format(token.name, leakage))\n"
   ]
  }
 ],
 "metadata": {
  "kernelspec": {
   "display_name": "Python 3",
   "language": "python",
   "name": "python3"
  },
  "language_info": {
   "codemirror_mode": {
    "name": "ipython",
    "version": 3
   },
   "file_extension": ".py",
   "mimetype": "text/x-python",
   "name": "python",
   "nbconvert_exporter": "python",
   "pygments_lexer": "ipython3",
   "version": "3.9.6"
  }
 },
 "nbformat": 4,
 "nbformat_minor": 4
}
